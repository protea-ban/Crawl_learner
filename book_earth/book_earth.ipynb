{
 "cells": [
  {
   "cell_type": "code",
   "execution_count": 1,
   "metadata": {},
   "outputs": [],
   "source": [
    "import pandas as pd"
   ]
  },
  {
   "cell_type": "code",
   "execution_count": 17,
   "metadata": {},
   "outputs": [],
   "source": [
    "book_earth = pd.read_csv('book_earth0826.csv')"
   ]
  },
  {
   "cell_type": "code",
   "execution_count": 18,
   "metadata": {},
   "outputs": [
    {
     "data": {
      "text/html": [
       "<div>\n",
       "<style scoped>\n",
       "    .dataframe tbody tr th:only-of-type {\n",
       "        vertical-align: middle;\n",
       "    }\n",
       "\n",
       "    .dataframe tbody tr th {\n",
       "        vertical-align: top;\n",
       "    }\n",
       "\n",
       "    .dataframe thead th {\n",
       "        text-align: right;\n",
       "    }\n",
       "</style>\n",
       "<table border=\"1\" class=\"dataframe\">\n",
       "  <thead>\n",
       "    <tr style=\"text-align: right;\">\n",
       "      <th></th>\n",
       "      <th>Unnamed: 0</th>\n",
       "      <th>Unnamed: 0.1</th>\n",
       "      <th>link</th>\n",
       "      <th>name</th>\n",
       "    </tr>\n",
       "  </thead>\n",
       "  <tbody>\n",
       "    <tr>\n",
       "      <th>0</th>\n",
       "      <td>0</td>\n",
       "      <td>0</td>\n",
       "      <td>https://www.lanzous.com/b244238</td>\n",
       "      <td>软件库软件阁线报软件基地</td>\n",
       "    </tr>\n",
       "    <tr>\n",
       "      <th>1</th>\n",
       "      <td>1</td>\n",
       "      <td>1</td>\n",
       "      <td>https://www.lanzous.com/u/wuzuowei</td>\n",
       "      <td>无作为分享：w168.net - 蓝奏云网盘</td>\n",
       "    </tr>\n",
       "    <tr>\n",
       "      <th>2</th>\n",
       "      <td>2</td>\n",
       "      <td>2</td>\n",
       "      <td>http://pan.lanzou.com/u/qq348740911</td>\n",
       "      <td>天天分享软件库 - 蓝奏云</td>\n",
       "    </tr>\n",
       "    <tr>\n",
       "      <th>3</th>\n",
       "      <td>3</td>\n",
       "      <td>3</td>\n",
       "      <td>https://www.lanzous.com/u/%E9%9B%84%E5%93%A5%E...</td>\n",
       "      <td>大白雄哥软件 - 蓝奏云</td>\n",
       "    </tr>\n",
       "    <tr>\n",
       "      <th>4</th>\n",
       "      <td>4</td>\n",
       "      <td>4</td>\n",
       "      <td>https://www.lanzous.com/b196932</td>\n",
       "      <td>七月软件库合集-建议收藏</td>\n",
       "    </tr>\n",
       "  </tbody>\n",
       "</table>\n",
       "</div>"
      ],
      "text/plain": [
       "   Unnamed: 0  Unnamed: 0.1  \\\n",
       "0           0             0   \n",
       "1           1             1   \n",
       "2           2             2   \n",
       "3           3             3   \n",
       "4           4             4   \n",
       "\n",
       "                                                link                    name  \n",
       "0                    https://www.lanzous.com/b244238            软件库软件阁线报软件基地  \n",
       "1                 https://www.lanzous.com/u/wuzuowei  无作为分享：w168.net - 蓝奏云网盘  \n",
       "2                http://pan.lanzou.com/u/qq348740911           天天分享软件库 - 蓝奏云  \n",
       "3  https://www.lanzous.com/u/%E9%9B%84%E5%93%A5%E...            大白雄哥软件 - 蓝奏云  \n",
       "4                    https://www.lanzous.com/b196932            七月软件库合集-建议收藏  "
      ]
     },
     "execution_count": 18,
     "metadata": {},
     "output_type": "execute_result"
    }
   ],
   "source": [
    "book_earth.head()"
   ]
  },
  {
   "cell_type": "code",
   "execution_count": 28,
   "metadata": {},
   "outputs": [],
   "source": [
    "book_earth = book_earth[['link', 'name']]"
   ]
  },
  {
   "cell_type": "code",
   "execution_count": 29,
   "metadata": {},
   "outputs": [
    {
     "data": {
      "text/html": [
       "<div>\n",
       "<style scoped>\n",
       "    .dataframe tbody tr th:only-of-type {\n",
       "        vertical-align: middle;\n",
       "    }\n",
       "\n",
       "    .dataframe tbody tr th {\n",
       "        vertical-align: top;\n",
       "    }\n",
       "\n",
       "    .dataframe thead th {\n",
       "        text-align: right;\n",
       "    }\n",
       "</style>\n",
       "<table border=\"1\" class=\"dataframe\">\n",
       "  <thead>\n",
       "    <tr style=\"text-align: right;\">\n",
       "      <th></th>\n",
       "      <th>link</th>\n",
       "      <th>name</th>\n",
       "    </tr>\n",
       "  </thead>\n",
       "  <tbody>\n",
       "    <tr>\n",
       "      <th>2</th>\n",
       "      <td>http://pan.lanzou.com/u/qq348740911</td>\n",
       "      <td>天天分享软件库 - 蓝奏云</td>\n",
       "    </tr>\n",
       "    <tr>\n",
       "      <th>3</th>\n",
       "      <td>https://www.lanzous.com/u/%E9%9B%84%E5%93%A5%E...</td>\n",
       "      <td>大白雄哥软件 - 蓝奏云</td>\n",
       "    </tr>\n",
       "    <tr>\n",
       "      <th>4</th>\n",
       "      <td>https://www.lanzous.com/b196932</td>\n",
       "      <td>七月软件库合集-建议收藏</td>\n",
       "    </tr>\n",
       "    <tr>\n",
       "      <th>5</th>\n",
       "      <td>https://www.lanzous.com/u/%E6%8B%BD%E6%8B%BD</td>\n",
       "      <td>嗨分享软件合集（每天更新） - 蓝奏云</td>\n",
       "    </tr>\n",
       "    <tr>\n",
       "      <th>6</th>\n",
       "      <td>https://www.lanzous.com/u/rjk</td>\n",
       "      <td>软件库软件游戏合集在线下载地址 - 蓝奏云</td>\n",
       "    </tr>\n",
       "    <tr>\n",
       "      <th>...</th>\n",
       "      <td>...</td>\n",
       "      <td>...</td>\n",
       "    </tr>\n",
       "    <tr>\n",
       "      <th>36031</th>\n",
       "      <td>https://www.epicgames.com/store/zh-CN/</td>\n",
       "      <td>Epic</td>\n",
       "    </tr>\n",
       "    <tr>\n",
       "      <th>36032</th>\n",
       "      <td>http://www.eshop-switch.com/</td>\n",
       "      <td>主掌中宝_Nintendo Switch各服游戏价格攻略测评站_NS各服游戏价格攻略测评站_...</td>\n",
       "    </tr>\n",
       "    <tr>\n",
       "      <th>36033</th>\n",
       "      <td>https://store.playstation.com/zh-hans-hk/home/...</td>\n",
       "      <td>PSN香港官网</td>\n",
       "    </tr>\n",
       "    <tr>\n",
       "      <th>36034</th>\n",
       "      <td>http://bbs.a9vg.com/forum.php</td>\n",
       "      <td>A9VG电玩</td>\n",
       "    </tr>\n",
       "    <tr>\n",
       "      <th>36035</th>\n",
       "      <td>http://www.psnine.com/</td>\n",
       "      <td>PSN中文站</td>\n",
       "    </tr>\n",
       "  </tbody>\n",
       "</table>\n",
       "<p>36034 rows × 2 columns</p>\n",
       "</div>"
      ],
      "text/plain": [
       "                                                    link  \\\n",
       "2                    http://pan.lanzou.com/u/qq348740911   \n",
       "3      https://www.lanzous.com/u/%E9%9B%84%E5%93%A5%E...   \n",
       "4                        https://www.lanzous.com/b196932   \n",
       "5           https://www.lanzous.com/u/%E6%8B%BD%E6%8B%BD   \n",
       "6                          https://www.lanzous.com/u/rjk   \n",
       "...                                                  ...   \n",
       "36031             https://www.epicgames.com/store/zh-CN/   \n",
       "36032                       http://www.eshop-switch.com/   \n",
       "36033  https://store.playstation.com/zh-hans-hk/home/...   \n",
       "36034                      http://bbs.a9vg.com/forum.php   \n",
       "36035                             http://www.psnine.com/   \n",
       "\n",
       "                                                    name  \n",
       "2                                          天天分享软件库 - 蓝奏云  \n",
       "3                                           大白雄哥软件 - 蓝奏云  \n",
       "4                                           七月软件库合集-建议收藏  \n",
       "5                                    嗨分享软件合集（每天更新） - 蓝奏云  \n",
       "6                                  软件库软件游戏合集在线下载地址 - 蓝奏云  \n",
       "...                                                  ...  \n",
       "36031                                               Epic  \n",
       "36032  主掌中宝_Nintendo Switch各服游戏价格攻略测评站_NS各服游戏价格攻略测评站_...  \n",
       "36033                                            PSN香港官网  \n",
       "36034                                             A9VG电玩  \n",
       "36035                                             PSN中文站  \n",
       "\n",
       "[36034 rows x 2 columns]"
      ]
     },
     "execution_count": 29,
     "metadata": {},
     "output_type": "execute_result"
    }
   ],
   "source": [
    "book_earth"
   ]
  },
  {
   "cell_type": "code",
   "execution_count": 38,
   "metadata": {},
   "outputs": [],
   "source": [
    "book_group = book_earth.groupby([\"link\",\"name\"])"
   ]
  },
  {
   "cell_type": "code",
   "execution_count": 39,
   "metadata": {},
   "outputs": [
    {
     "data": {
      "text/plain": [
       "<pandas.core.groupby.generic.DataFrameGroupBy object at 0x0000027020E39DF0>"
      ]
     },
     "execution_count": 39,
     "metadata": {},
     "output_type": "execute_result"
    }
   ],
   "source": [
    "book_group"
   ]
  },
  {
   "cell_type": "code",
   "execution_count": 40,
   "metadata": {},
   "outputs": [],
   "source": [
    "df = book_group.count().reset_index()"
   ]
  },
  {
   "cell_type": "code",
   "execution_count": 41,
   "metadata": {},
   "outputs": [
    {
     "data": {
      "text/plain": [
       "<bound method DataFrame.info of                                                   link  \\\n",
       "0    http://3g.ali213.net/dongsen/list.html?name=Vi...   \n",
       "1    http://61.175.198.136:8083/rwt/CNKIBK/http/N3R...   \n",
       "2                        http://bbs.a9vg.com/forum.php   \n",
       "3                      http://bbs.cnyxhd.com/forum.php   \n",
       "4                              http://bbs.musicool.cn/   \n",
       "..                                                 ...   \n",
       "293              https://zhuanlan.zhihu.com/p/27694565   \n",
       "294              https://zhuanlan.zhihu.com/p/27927592   \n",
       "295              https://zhuanlan.zhihu.com/p/27978355   \n",
       "296              https://zhuanlan.zhihu.com/p/28259625   \n",
       "297                https://zhutix.com/tag/win10-zhuti/   \n",
       "\n",
       "                                            name  \n",
       "0                                        动物森友会图鉴  \n",
       "1                                           管理世界  \n",
       "2                                         A9VG电玩  \n",
       "3                                         DJYDXS  \n",
       "4                                             炫音  \n",
       "..                                           ...  \n",
       "293                        PPT应用商店里，居然藏着这么多好用的神器  \n",
       "294                          如何用PPT设计出一个大气有质感的数字  \n",
       "295                              PPT中最实用的20个黑科技！  \n",
       "296                                 PPT素材搜索指南（全）  \n",
       "297  Win10主题 - Win10电脑主题 - Win10桌面主题 - 致美化 - 漫锋网  \n",
       "\n",
       "[298 rows x 2 columns]>"
      ]
     },
     "execution_count": 41,
     "metadata": {},
     "output_type": "execute_result"
    }
   ],
   "source": [
    "df.info"
   ]
  },
  {
   "cell_type": "code",
   "execution_count": 42,
   "metadata": {},
   "outputs": [
    {
     "data": {
      "text/plain": [
       "link    298\n",
       "name    296\n",
       "dtype: int64"
      ]
     },
     "execution_count": 42,
     "metadata": {},
     "output_type": "execute_result"
    }
   ],
   "source": [
    "book_earth.nunique()"
   ]
  },
  {
   "cell_type": "code",
   "execution_count": 44,
   "metadata": {},
   "outputs": [],
   "source": [
    "book_count = book_earth['link'].value_counts()"
   ]
  },
  {
   "cell_type": "code",
   "execution_count": 45,
   "metadata": {},
   "outputs": [
    {
     "data": {
      "text/plain": [
       "https://smallpdf.com/cn           234\n",
       "http://www.199it.com/             234\n",
       "https://www.yxgapp.com/           234\n",
       "https://www.bookmarkearth.com/    234\n",
       "https://www.quzhuanpan.com/       234\n",
       "Name: link, dtype: int64"
      ]
     },
     "execution_count": 45,
     "metadata": {},
     "output_type": "execute_result"
    }
   ],
   "source": [
    "book_count.head()"
   ]
  },
  {
   "cell_type": "code",
   "execution_count": 46,
   "metadata": {},
   "outputs": [],
   "source": [
    "book_count.to_csv('book_count.csv', encoding='utf_8_sig')"
   ]
  },
  {
   "cell_type": "code",
   "execution_count": 47,
   "metadata": {},
   "outputs": [
    {
     "data": {
      "text/plain": [
       "https://smallpdf.com/cn                                                                          234\n",
       "http://www.199it.com/                                                                            234\n",
       "https://www.yxgapp.com/                                                                          234\n",
       "https://www.bookmarkearth.com/                                                                   234\n",
       "https://www.quzhuanpan.com/                                                                      234\n",
       "http://www.cnnic.net.cn/                                                                         234\n",
       "https://www.tutieshi.com/                                                                        234\n",
       "http://magnet.chongbuluo.com/                                                                    234\n",
       "https://www.zhihu.com/                                                                           234\n",
       "https://www.lanzous.com/b244238                                                                  233\n",
       "https://www.41478.net/                                                                           117\n",
       "http://www.sina.com.cn/                                                                          117\n",
       "https://www.sosogif.com/                                                                         117\n",
       "https://bigjpg.com/                                                                              117\n",
       "https://color.adobe.com/zh/create/color-wheel/                                                   117\n",
       "http://guozhivip.com/nav/                                                                        117\n",
       "https://detail.1688.com/offer/568672738280.html?spm=b26110380.sw1688.mof001.57.2fb62169BYmSam    117\n",
       "https://xiumi.us/#/                                                                              117\n",
       "http://www.sohu.com/a/245287984_177272                                                           117\n",
       "https://zhuanlan.zhihu.com/p/27927592                                                            117\n",
       "Name: link, dtype: int64"
      ]
     },
     "execution_count": 47,
     "metadata": {},
     "output_type": "execute_result"
    }
   ],
   "source": [
    "book_count.head(20)"
   ]
  },
  {
   "cell_type": "code",
   "execution_count": null,
   "metadata": {},
   "outputs": [],
   "source": []
  }
 ],
 "metadata": {
  "kernelspec": {
   "display_name": "Python 3",
   "language": "python",
   "name": "python3"
  },
  "language_info": {
   "codemirror_mode": {
    "name": "ipython",
    "version": 3
   },
   "file_extension": ".py",
   "mimetype": "text/x-python",
   "name": "python",
   "nbconvert_exporter": "python",
   "pygments_lexer": "ipython3",
   "version": "3.8.3"
  }
 },
 "nbformat": 4,
 "nbformat_minor": 4
}
